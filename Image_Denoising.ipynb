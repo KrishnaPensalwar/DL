{
 "cells": [
  {
   "cell_type": "code",
   "execution_count": 61,
   "id": "8f8dec61-9a44-489e-b3b4-74af85eaaf12",
   "metadata": {},
   "outputs": [],
   "source": [
    "import tensorflow as tf\n",
    "import pandas as pd\n",
    "import numpy as np\n",
    "from tensorflow.keras.layers import Input,Dense,Flatten,Reshape\n",
    "from tensorflow.keras.models import Model\n",
    "import matplotlib.pyplot as plt"
   ]
  },
  {
   "cell_type": "code",
   "execution_count": 62,
   "id": "d1d89e4a-fad5-4037-be8d-1104a865fef2",
   "metadata": {},
   "outputs": [
    {
     "name": "stderr",
     "output_type": "stream",
     "text": [
      "<>:1: SyntaxWarning: invalid escape sequence '\\p'\n",
      "<>:1: SyntaxWarning: invalid escape sequence '\\p'\n",
      "C:\\Users\\payal\\AppData\\Local\\Temp\\ipykernel_1572\\2617881287.py:1: SyntaxWarning: invalid escape sequence '\\p'\n",
      "  data = pd.read_csv(\"C:\\\\Users\\payal\\\\OneDrive\\\\Desktop\\\\DL COdes\\\\3 MNIST\\\\mnist_784_csv.csv\")\n"
     ]
    }
   ],
   "source": [
    "data = pd.read_csv(\"C:\\\\Users\\payal\\\\OneDrive\\\\Desktop\\\\DL COdes\\\\3 MNIST\\\\mnist_784_csv.csv\")"
   ]
  },
  {
   "cell_type": "code",
   "execution_count": 63,
   "id": "5923dc5a-4bcf-4b19-baf0-8961bf6de115",
   "metadata": {},
   "outputs": [
    {
     "name": "stdout",
     "output_type": "stream",
     "text": [
      "   pixel1  pixel2  pixel3  pixel4  pixel5  pixel6  pixel7  pixel8  pixel9  \\\n",
      "0       0       0       0       0       0       0       0       0       0   \n",
      "1       0       0       0       0       0       0       0       0       0   \n",
      "2       0       0       0       0       0       0       0       0       0   \n",
      "3       0       0       0       0       0       0       0       0       0   \n",
      "4       0       0       0       0       0       0       0       0       0   \n",
      "\n",
      "   pixel10  ...  pixel776  pixel777  pixel778  pixel779  pixel780  pixel781  \\\n",
      "0        0  ...         0         0         0         0         0         0   \n",
      "1        0  ...         0         0         0         0         0         0   \n",
      "2        0  ...         0         0         0         0         0         0   \n",
      "3        0  ...         0         0         0         0         0         0   \n",
      "4        0  ...         0         0         0         0         0         0   \n",
      "\n",
      "   pixel782  pixel783  pixel784  class  \n",
      "0         0         0         0      5  \n",
      "1         0         0         0      0  \n",
      "2         0         0         0      4  \n",
      "3         0         0         0      1  \n",
      "4         0         0         0      9  \n",
      "\n",
      "[5 rows x 785 columns]\n"
     ]
    }
   ],
   "source": [
    "print(data.head())\n"
   ]
  },
  {
   "cell_type": "code",
   "execution_count": 64,
   "id": "8e02094e-ffc2-43af-9519-0a81d7843556",
   "metadata": {},
   "outputs": [],
   "source": [
    "X = data.iloc[:, :-1].values / 255.0   # Normalize pixel values\n",
    "X = X.reshape(-1, 28, 28, 1)  # Reshape to 28x28x1"
   ]
  },
  {
   "cell_type": "code",
   "execution_count": 65,
   "id": "57ba0c0c-4028-4d24-9c4b-d31baac488f9",
   "metadata": {},
   "outputs": [],
   "source": [
    "noise_factor =0.5\n",
    "X_noisy = X + noise_factor * np.random.normal(loc=0.0, scale=1.0, size=X.shape)\n",
    "X_noisy = np.clip(X_noisy, 0., 1.)\n"
   ]
  },
  {
   "cell_type": "code",
   "execution_count": 66,
   "id": "ffdf333e-2ce0-4a23-8670-219e4ff79057",
   "metadata": {},
   "outputs": [],
   "source": [
    "input_img = Input(shape=(28,28,1))"
   ]
  },
  {
   "cell_type": "code",
   "execution_count": 67,
   "id": "f589bc86-adf9-490d-8a2b-229cffee4eeb",
   "metadata": {},
   "outputs": [],
   "source": [
    "x = Flatten()(input_img)\n",
    "x = Dense(128,activation='relu')(x)\n",
    "encoded = Dense(64,activation='relu')(x)"
   ]
  },
  {
   "cell_type": "code",
   "execution_count": 68,
   "id": "92612c54-f082-4ea5-a7b1-eef88d8effea",
   "metadata": {},
   "outputs": [],
   "source": [
    "x = Dense(128,activation='relu')(encoded)\n",
    "x = Dense(28*28,activation='sigmoid')(x)\n",
    "decoded = Reshape((28,28,1))(x)\n"
   ]
  },
  {
   "cell_type": "code",
   "execution_count": 69,
   "id": "4697e5a5-e7f7-443d-8670-76d02e4891a6",
   "metadata": {},
   "outputs": [],
   "source": [
    "autoencoder = Model(input_img,decoded)\n",
    "autoencoder.compile(optimizer='adam',loss='binary_crossentropy')"
   ]
  },
  {
   "cell_type": "code",
   "execution_count": null,
   "id": "61c4cce3-add0-4d43-909a-f647c13abc33",
   "metadata": {},
   "outputs": [
    {
     "name": "stdout",
     "output_type": "stream",
     "text": [
      "Epoch 1/5\n",
      "\u001b[1m1750/1750\u001b[0m \u001b[32m━━━━━━━━━━━━━━━━━━━━\u001b[0m\u001b[37m\u001b[0m \u001b[1m11s\u001b[0m 5ms/step - loss: 0.2142 - val_loss: 0.1375\n",
      "Epoch 2/5\n",
      "\u001b[1m1745/1750\u001b[0m \u001b[32m━━━━━━━━━━━━━━━━━━━\u001b[0m\u001b[37m━\u001b[0m \u001b[1m0s\u001b[0m 5ms/step - loss: 0.1343"
     ]
    }
   ],
   "source": [
    "autoencoder.fit(X_noisy,X,epochs=5,batch_size=32,shuffle=True,validation_split=0.2)"
   ]
  },
  {
   "cell_type": "code",
   "execution_count": null,
   "id": "9c37a02e-ba52-4d19-b29f-2ca487c1798e",
   "metadata": {},
   "outputs": [],
   "source": [
    "denoised_images = autoencoder.predict(X_noisy)"
   ]
  },
  {
   "cell_type": "code",
   "execution_count": null,
   "id": "96c562b5-a6e8-4cc5-a17b-808938936486",
   "metadata": {},
   "outputs": [],
   "source": [
    "n=10\n",
    "plt.figure(figsize=(20,4))\n",
    "for i in range(n):\n",
    "    ax = plt.subplot(2,n,i+1)\n",
    "    plt.imshow(X_noisy[i].reshape(28,28),cmap='gray')\n",
    "\n",
    "    ax = plt.subplot(2, n, i + 1 + n)\n",
    "    plt.imshow(denoised_images[i].reshape(28, 28), cmap='gray')\n",
    "    \n",
    "\n",
    "plt.show()"
   ]
  },
  {
   "cell_type": "code",
   "execution_count": null,
   "id": "8d6935b3-0779-4cba-91ac-98872302cb24",
   "metadata": {},
   "outputs": [],
   "source": []
  },
  {
   "cell_type": "code",
   "execution_count": null,
   "id": "1b61f6e5-b701-4930-9f03-15704d7d432c",
   "metadata": {},
   "outputs": [],
   "source": []
  }
 ],
 "metadata": {
  "kernelspec": {
   "display_name": "Python 3 (ipykernel)",
   "language": "python",
   "name": "python3"
  },
  "language_info": {
   "codemirror_mode": {
    "name": "ipython",
    "version": 3
   },
   "file_extension": ".py",
   "mimetype": "text/x-python",
   "name": "python",
   "nbconvert_exporter": "python",
   "pygments_lexer": "ipython3",
   "version": "3.12.7"
  }
 },
 "nbformat": 4,
 "nbformat_minor": 5
}
